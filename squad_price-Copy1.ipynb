{
 "cells": [
  {
   "cell_type": "code",
   "execution_count": 2,
   "id": "0dc1224f",
   "metadata": {},
   "outputs": [],
   "source": [
    "import pandas as pd\n",
    "import requests\n",
    "from bs4 import BeautifulSoup as bs\n",
    "import re"
   ]
  },
  {
   "cell_type": "code",
   "execution_count": 18,
   "id": "14549cec",
   "metadata": {},
   "outputs": [],
   "source": [
    "headers = {'User-Agent':'Moziila/5.0 (X11; Linux x86_64) AppleWebKit/537.36 (KHTML, Like Gecko) Chrome/47.0.2526.186 Safari/537.36'}\n",
    "page_address = 'https://www.transfermarkt.com/west-ham-united/startseite/verein/379/saison_id/2018'\n",
    "object_response = requests.get(page_address, headers=headers)\n",
    "bs_page = BeautifulSoup(object_response.content, 'lxml')"
   ]
  },
  {
   "cell_type": "code",
   "execution_count": 19,
   "id": "760dcd9f",
   "metadata": {},
   "outputs": [],
   "source": [
    "team_players = bs_page.find_all('span', {'class':'show-for-small'})\n",
    "player_prices = bs_page.find_all('td', {'class':'rechts hauptlink'})\n"
   ]
  },
  {
   "cell_type": "code",
   "execution_count": 20,
   "id": "9a7320eb",
   "metadata": {},
   "outputs": [
    {
     "data": {
      "text/plain": [
       "'n. holland'"
      ]
     },
     "execution_count": 20,
     "metadata": {},
     "output_type": "execute_result"
    }
   ],
   "source": [
    "str(team_players[25]).lower().split('>')[2].split('<')[0]"
   ]
  },
  {
   "cell_type": "code",
   "execution_count": 21,
   "id": "2f376728",
   "metadata": {},
   "outputs": [
    {
     "name": "stdout",
     "output_type": "stream",
     "text": [
      "0 a\n",
      "1 a\n",
      "2 a\n",
      "3 a\n",
      "4 a\n",
      "5 a\n",
      "6 a\n",
      "7 a\n",
      "8 a\n",
      "9 a\n",
      "10 a\n",
      "11 a\n",
      "12 c\n",
      "13 a\n",
      "14 a\n",
      "15 c\n",
      "16 a\n",
      "17 a\n",
      "18 a\n",
      "19 a\n",
      "20 a\n",
      "21 c\n",
      "22 a\n",
      "23 a\n",
      "24 c\n",
      "25 c\n",
      "26 a\n",
      "27 a\n",
      "28 a\n",
      "29 a\n",
      "30 a\n",
      "31 a\n",
      "32 a\n",
      "33 a\n",
      "34 a\n",
      "35 a\n",
      "36 a\n"
     ]
    }
   ],
   "source": [
    "squad_temp = {}\n",
    "for x in range(len(team_players)):\n",
    "    if len(str(player_prices[x]).split('>')[2].split('<')[0])>2:\n",
    "        if str(player_prices[x]).split('>')[2].split('<')[0].find('m') > -1:\n",
    "            print(x,'a')\n",
    "            if str(team_players[x]).lower().split('>')[2].split('<')[0].find(' ')>-1:\n",
    "                squad_temp[f\"{str(team_players[x]).lower().split('>')[2].split('<')[0].split(' ')[1]}\"] = float(str(player_prices[x]).split('>')[2].split('<')[0].replace('€','').replace('m',''))\n",
    "            else:\n",
    "                squad_temp[f\"{str(team_players[x]).lower().split('>')[2].split('<')[0]}\"] = float(str(player_prices[x]).split('>')[2].split('<')[0].replace('€','').replace('m',''))\n",
    "            #print(float(str(player_prices[x]).split('>')[2].split('<')[0].replace('€','').replace('m','')))\n",
    "        elif str(player_prices[x]).split('>')[2].split('<')[0].find('k') > -1:\n",
    "            if str(team_players[x]).lower().split('>')[2].split('<')[0].find(' ')>-1:\n",
    "                squad_temp[f\"{str(team_players[x]).lower().split('>')[2].split('<')[0].split(' ')[1]}\"] = float(str(player_prices[x]).split('>')[2].split('<')[0].replace('€','').replace('k',''))*0.001\n",
    "            #print(x,'b')\n",
    "            else: \n",
    "                squad_temp[f\"{str(team_players[x]).lower().split('>')[2].split('<')[0]}\"] = float(str(player_prices[x]).split('>')[2].split('<')[0].replace('€','').replace('k',''))*0.001\n",
    "            #print(float(str(player_prices[x]).split('>')[2].split('<')[0].replace('€','').replace('k',''))*0.001)\n",
    "    else:\n",
    "        print(x,'c')\n",
    "        squad_temp[f\"{str(team_players[x]).lower().split('>')[2].split('<')[0].split(' ')[1]}\"] = 0\n",
    "        #print(0)\n",
    "    \n",
    "    "
   ]
  },
  {
   "cell_type": "code",
   "execution_count": 22,
   "id": "3f84f3d4",
   "metadata": {},
   "outputs": [
    {
     "data": {
      "text/plain": [
       "{'fabianski': 5.0,\n",
       " 'adrián': 3.5,\n",
       " 'diop': 35.0,\n",
       " 'balbuena': 12.0,\n",
       " 'ogbonna': 8.0,\n",
       " 'reid': 5.0,\n",
       " 'oxford': 4.0,\n",
       " 'cresswell': 10.0,\n",
       " 'masuaku': 7.0,\n",
       " 'fredericks': 5.0,\n",
       " 'byram': 3.5,\n",
       " 'zabaleta': 3.5,\n",
       " 'johnson': 0,\n",
       " 'rice': 45.0,\n",
       " 'sánchez': 1.5,\n",
       " 'coventry': 0,\n",
       " 'wilshere': 10.0,\n",
       " 'fernandes': 8.0,\n",
       " 'obiang': 7.0,\n",
       " 'noble': 7.0,\n",
       " 'cullen': 1.0,\n",
       " 'makasi': 0,\n",
       " 'lanzini': 20.0,\n",
       " 'nasri': 5.0,\n",
       " 'powell': 0,\n",
       " 'holland': 0,\n",
       " 'anderson': 40.0,\n",
       " 'yarmolenko': 20.0,\n",
       " 'snodgrass': 7.0,\n",
       " 'diangana': 5.0,\n",
       " 'silva': 1.0,\n",
       " 'arnautovic': 35.0,\n",
       " 'antonio': 15.0,\n",
       " 'chicharito': 12.0,\n",
       " 'carroll': 8.0,\n",
       " 'hugill': 6.0,\n",
       " 'pérez': 4.0}"
      ]
     },
     "execution_count": 22,
     "metadata": {},
     "output_type": "execute_result"
    }
   ],
   "source": [
    "squad_temp"
   ]
  },
  {
   "cell_type": "code",
   "execution_count": 29,
   "id": "e5ee75e7",
   "metadata": {},
   "outputs": [],
   "source": [
    "url = 'https://www.eurosport.com/football/premier-league/2018-2019/live-arsenal-manchester-city_mtc1033001/live-commentary.shtml'\n",
    "url = url.replace('-commentary','')\n",
    "response = requests.get(url)\n",
    "soup = BeautifulSoup(response.text, 'lxml')"
   ]
  },
  {
   "cell_type": "code",
   "execution_count": 30,
   "id": "88c4fd90",
   "metadata": {},
   "outputs": [],
   "source": [
    "data = soup.find_all('span', {'data-testid':'lineup-pitch-player-name'})\n"
   ]
  },
  {
   "cell_type": "code",
   "execution_count": 31,
   "id": "6801ee35",
   "metadata": {},
   "outputs": [],
   "source": [
    "home = []\n",
    "away = []\n",
    "for player in data[:22:2]:\n",
    "    home.append(str(player).split('>')[1].split('<')[0])\n",
    "for player in data[22:44:2]:\n",
    "    away.append(str(player).split('>')[1].split('<')[0])"
   ]
  },
  {
   "cell_type": "code",
   "execution_count": 32,
   "id": "bd56302a",
   "metadata": {},
   "outputs": [
    {
     "data": {
      "text/plain": [
       "['Agüero',\n",
       " 'Laporte',\n",
       " 'Walker',\n",
       " 'Silva',\n",
       " 'Mendy',\n",
       " 'Fernandinho',\n",
       " 'Mahrez',\n",
       " 'Ederson',\n",
       " 'Stones',\n",
       " 'Sterling',\n",
       " 'Gündogan']"
      ]
     },
     "execution_count": 32,
     "metadata": {},
     "output_type": "execute_result"
    }
   ],
   "source": [
    "away"
   ]
  },
  {
   "cell_type": "code",
   "execution_count": 33,
   "id": "61601788",
   "metadata": {},
   "outputs": [
    {
     "name": "stdout",
     "output_type": "stream",
     "text": [
      "637.0\n"
     ]
    }
   ],
   "source": [
    "cost = 0\n",
    "for player in away:\n",
    "    #print(player.lower())\n",
    "    cost += squad_temp[player.lower()]\n",
    "    \n",
    "print(cost)"
   ]
  },
  {
   "cell_type": "code",
   "execution_count": 20,
   "id": "ee71fb4b",
   "metadata": {},
   "outputs": [
    {
     "data": {
      "text/plain": [
       "['arrizabalaga',\n",
       " 'david luiz',\n",
       " 'rüdiger',\n",
       " 'emerson',\n",
       " 'azpilicueta',\n",
       " 'jorginho',\n",
       " 'kanté',\n",
       " 'barkley',\n",
       " 'hazard',\n",
       " 'willian',\n",
       " 'pedro',\n",
       " 'ederson',\n",
       " 'laporte',\n",
       " 'otamendi',\n",
       " 'zinchenko',\n",
       " 'walker',\n",
       " 'fernandinho',\n",
       " 'de bruyne',\n",
       " 'silva',\n",
       " 'silva',\n",
       " 'sterling',\n",
       " 'agüero']"
      ]
     },
     "execution_count": 20,
     "metadata": {},
     "output_type": "execute_result"
    }
   ],
   "source": [
    "players\n",
    "\n"
   ]
  },
  {
   "cell_type": "code",
   "execution_count": 23,
   "id": "4d07bb6a",
   "metadata": {},
   "outputs": [],
   "source": [
    "#ergebnis-link\n",
    "\n",
    "page_address = 'https://www.transfermarkt.com/west-ham-united/spielplan/verein/379/saison_id/2018'\n",
    "object_response = requests.get(page_address, headers=headers)\n",
    "bs_page = BeautifulSoup(object_response.content, 'lxml')"
   ]
  },
  {
   "cell_type": "code",
   "execution_count": 24,
   "id": "01929fdf",
   "metadata": {},
   "outputs": [],
   "source": [
    "reports = bs_page.find_all('a', {'class':'ergebnis-link'})\n"
   ]
  },
  {
   "cell_type": "code",
   "execution_count": 25,
   "id": "671b6ab2",
   "metadata": {
    "scrolled": false
   },
   "outputs": [
    {
     "name": "stdout",
     "output_type": "stream",
     "text": [
      "\n",
      "Matchday1\n",
      "0\n",
      "149.0\n",
      "\n",
      "Matchday2\n",
      "106.5\n",
      "0\n",
      "\n",
      "Matchday3\n",
      "0\n",
      "132.5\n",
      "\n",
      "Matchday4\n",
      "135.5\n",
      "0\n",
      "\n",
      "Matchday5\n",
      "0\n",
      "176.5\n",
      "\n",
      "Matchday6\n",
      "156.5\n",
      "0\n",
      "\n",
      "Matchday7\n",
      "176.5\n",
      "0\n",
      "\n",
      "Matchday8\n",
      "0\n",
      "176.5\n",
      "\n",
      "Matchday9\n",
      "179.5\n",
      "1.5\n",
      "\n",
      "Matchday10\n",
      "0\n",
      "138.5\n",
      "\n",
      "Matchday11\n",
      "164.5\n",
      "0\n",
      "\n",
      "Matchday12\n",
      "0\n",
      "164.5\n",
      "\n",
      "Matchday13\n",
      "169.5\n",
      "1.0\n",
      "\n",
      "Matchday14\n",
      "4.0\n",
      "171.5\n",
      "\n",
      "Matchday15\n",
      "176.0\n",
      "0\n",
      "\n",
      "Matchday16\n",
      "137.5\n",
      "0\n",
      "\n",
      "Matchday17\n",
      "0\n",
      "148.5\n",
      "\n",
      "Matchday18\n",
      "148.5\n",
      "0\n",
      "\n",
      "Matchday19\n",
      "0\n",
      "141.0\n",
      "\n",
      "Matchday20\n",
      "0\n",
      "171.0\n",
      "\n",
      "Matchday21\n",
      "163.5\n",
      "0\n",
      "\n",
      "Matchday22\n",
      "168.5\n",
      "0\n",
      "\n",
      "Matchday23\n",
      "0\n",
      "141.5\n",
      "\n",
      "Matchday24\n",
      "0\n",
      "167.5\n",
      "\n",
      "Matchday25\n",
      "149.0\n",
      "0\n",
      "\n",
      "Matchday26\n",
      "0\n",
      "149.0\n",
      "\n",
      "Matchday27\n",
      "147.5\n",
      "0\n",
      "\n",
      "Matchday28\n",
      "1.0\n",
      "133.0\n",
      "\n",
      "Matchday29\n",
      "154.0\n",
      "4.0\n",
      "\n",
      "Matchday30\n",
      "0\n",
      "154.0\n",
      "\n",
      "Matchday31\n",
      "183.5\n",
      "0\n",
      "\n",
      "Matchday32\n",
      "179.5\n",
      "0\n",
      "\n",
      "Matchday33\n",
      "0\n",
      "159.0\n",
      "\n",
      "Matchday34\n",
      "0\n",
      "126.5\n",
      "\n",
      "Matchday35\n",
      "144.5\n",
      "0\n",
      "\n",
      "Matchday36\n",
      "1.5\n",
      "173.0\n",
      "\n",
      "Matchday37\n",
      "153.0\n",
      "0\n",
      "\n",
      "Matchday38\n",
      "0\n",
      "186.0\n",
      "\n",
      "Matchday39\n",
      "166.5\n",
      "0\n",
      "\n",
      "Matchday40\n",
      "0\n",
      "114.5\n",
      "\n",
      "Matchday41\n",
      "0\n",
      "155.0\n",
      "\n",
      "Matchday42\n",
      "101.0\n",
      "0\n",
      "\n",
      "Matchday43\n",
      "142.5\n",
      "1.5\n"
     ]
    }
   ],
   "source": [
    "matchday = 1\n",
    "for report in reports[:]:\n",
    "    address = 'https://www.transfermarkt.com/spielbericht/index/spielbericht/'+ str(re.findall(r\"\\d+\", str(report))[0])\n",
    "    object_response = requests.get(address, headers=headers)\n",
    "    bs_page = BeautifulSoup(object_response.content, 'lxml')\n",
    "    team_players = bs_page.find_all('span', {'class':'aufstellung-rueckennummer-name'})\n",
    "    players = []\n",
    "    for player in team_players:\n",
    "        players.append(str(player).split('>')[2].split('<')[0].lower())\n",
    "        #print(str(player).split('>')[2].split('<')[0].lower())\n",
    "    print(f'\\nMatchday{matchday}')\n",
    "    cost = 0\n",
    "    for player in players[:11]:\n",
    "        if player in squad_temp:\n",
    "            cost += squad_temp[player.lower()]\n",
    "    \n",
    "    print(cost)\n",
    "    cost2 = 0\n",
    "    for player in players[11:]:\n",
    "        if player in squad_temp:\n",
    "            cost2 += squad_temp[player.lower()]\n",
    "    \n",
    "    print(cost2)\n",
    "    matchday +=1\n",
    "    "
   ]
  },
  {
   "cell_type": "code",
   "execution_count": null,
   "id": "7e50a0c6",
   "metadata": {},
   "outputs": [],
   "source": []
  },
  {
   "cell_type": "code",
   "execution_count": 34,
   "id": "55494c0c",
   "metadata": {},
   "outputs": [],
   "source": [
    "\n",
    "object_response = requests.get('https://www.transfermarkt.com/spielbericht/index/spielbericht/3194822', headers=headers)\n",
    "bs_page = BeautifulSoup(object_response.content, 'lxml')\n",
    "team_players = bs_page.find_all('span', {'class':'aufstellung-rueckennummer-name'})\n",
    "players = []\n",
    "for player in team_players:\n",
    "    players.append(str(player).split('>')[2].split('<')[0].lower())\n",
    "    #print(str(player).split('>')[2].split('<')[0].lower())"
   ]
  },
  {
   "cell_type": "code",
   "execution_count": 35,
   "id": "bf402432",
   "metadata": {},
   "outputs": [],
   "source": [
    "cost = 0\n",
    "for player in players[11:]:\n",
    "    cost += squad_temp[player]"
   ]
  },
  {
   "cell_type": "code",
   "execution_count": 36,
   "id": "1be4f24c",
   "metadata": {},
   "outputs": [
    {
     "data": {
      "text/plain": [
       "74.29999999999998"
      ]
     },
     "execution_count": 36,
     "metadata": {},
     "output_type": "execute_result"
    }
   ],
   "source": [
    "cost"
   ]
  },
  {
   "cell_type": "code",
   "execution_count": 24,
   "id": "2f26f3a8",
   "metadata": {},
   "outputs": [
    {
     "data": {
      "text/plain": [
       "{'ryan': 8.0,\n",
       " 'button': 1.2,\n",
       " 'steele': 0.6,\n",
       " 'dunk': 16.0,\n",
       " 'webster': 12.0,\n",
       " 'duffy': 9.5,\n",
       " 'bernardo': 4.8,\n",
       " 'burn': 4.0,\n",
       " 'balogun': 0.8,\n",
       " \"o'hora\": 0,\n",
       " 'roberts': 0,\n",
       " 'bong': 0.8,\n",
       " 'cochrane': 0,\n",
       " 'montoya': 6.5,\n",
       " 'lamptey': 3.2,\n",
       " 'schelotto': 1.2,\n",
       " 'yapi': 0,\n",
       " 'davies': 0,\n",
       " 'baluta': 3.6,\n",
       " 'pröpper': 13.5,\n",
       " 'mac': 11.0,\n",
       " 'bissouma': 9.5,\n",
       " 'groß': 9.5,\n",
       " 'mooy': 9.5,\n",
       " 'stephens': 4.8,\n",
       " 'alzate': 2.3,\n",
       " 'kayal': 1.2,\n",
       " 'sanders': 0,\n",
       " 'richards': 0,\n",
       " 'spong': 0,\n",
       " 'jenks': 0,\n",
       " 'march': 6.5,\n",
       " 'trossard': 13.0,\n",
       " 'izquierdo': 6.5,\n",
       " 'ahannach': 0.4,\n",
       " 'gwargis': 0.025,\n",
       " 'jahanbakhsh': 6.5,\n",
       " 'longman': 0,\n",
       " 'maupay': 17.5,\n",
       " 'locadia': 8.0,\n",
       " 'connolly': 4.0,\n",
       " 'andone': 3.2,\n",
       " 'murray': 1.6,\n",
       " 'radulovic': 0.05}"
      ]
     },
     "execution_count": 24,
     "metadata": {},
     "output_type": "execute_result"
    }
   ],
   "source": [
    "squad_temp"
   ]
  },
  {
   "cell_type": "code",
   "execution_count": 7,
   "id": "b27ef278",
   "metadata": {},
   "outputs": [],
   "source": [
    "url = 'https://www.transfermarkt.com/fc-liverpool/spielplan/verein/31/saison_id/2019'\n",
    "headers = {'User-Agent':'Moziila/5.0 (X11; Linux x86_64) AppleWebKit/537.36 (KHTML, Like Gecko) Chrome/47.0.2526.186 Safari/537.36'}\n",
    "object_response = requests.get(url, headers=headers)\n",
    "bs_page = BeautifulSoup(object_response.content, 'lxml')"
   ]
  },
  {
   "cell_type": "code",
   "execution_count": 10,
   "id": "a44fe7c9",
   "metadata": {},
   "outputs": [],
   "source": [
    "all_divs = bs_page.find_all('div', {'class':'box'})"
   ]
  },
  {
   "cell_type": "code",
   "execution_count": 11,
   "id": "99b42e3e",
   "metadata": {},
   "outputs": [],
   "source": [
    "premier_league = [div for div in all_divs if div.find('img', alt='Premier League')]"
   ]
  },
  {
   "cell_type": "code",
   "execution_count": 14,
   "id": "53bab355",
   "metadata": {},
   "outputs": [],
   "source": [
    "reports_pl = premier_league[0].find_all('a', {'class':'ergebnis-link'})"
   ]
  },
  {
   "cell_type": "code",
   "execution_count": null,
   "id": "e33d6ed5",
   "metadata": {},
   "outputs": [],
   "source": []
  },
  {
   "cell_type": "code",
   "execution_count": 16,
   "id": "b26852df",
   "metadata": {},
   "outputs": [
    {
     "name": "stdout",
     "output_type": "stream",
     "text": [
      "\n",
      "Matchday1\n"
     ]
    },
    {
     "ename": "NameError",
     "evalue": "name 'squad_temp' is not defined",
     "output_type": "error",
     "traceback": [
      "\u001b[1;31m---------------------------------------------------------------------------\u001b[0m",
      "\u001b[1;31mNameError\u001b[0m                                 Traceback (most recent call last)",
      "Cell \u001b[1;32mIn[16], line 14\u001b[0m\n\u001b[0;32m     12\u001b[0m cost \u001b[38;5;241m=\u001b[39m \u001b[38;5;241m0\u001b[39m\n\u001b[0;32m     13\u001b[0m \u001b[38;5;28;01mfor\u001b[39;00m player \u001b[38;5;129;01min\u001b[39;00m players[:\u001b[38;5;241m11\u001b[39m]:\n\u001b[1;32m---> 14\u001b[0m     \u001b[38;5;28;01mif\u001b[39;00m player \u001b[38;5;129;01min\u001b[39;00m \u001b[43msquad_temp\u001b[49m:\n\u001b[0;32m     15\u001b[0m         cost \u001b[38;5;241m+\u001b[39m\u001b[38;5;241m=\u001b[39m squad_temp[player\u001b[38;5;241m.\u001b[39mlower()]\n\u001b[0;32m     17\u001b[0m \u001b[38;5;28mprint\u001b[39m(cost)\n",
      "\u001b[1;31mNameError\u001b[0m: name 'squad_temp' is not defined"
     ]
    }
   ],
   "source": [
    "matchday = 1\n",
    "for report in reports_pl[:]:\n",
    "    address = 'https://www.transfermarkt.com/spielbericht/index/spielbericht/'+ str(re.findall(r\"\\d+\", str(report))[0])\n",
    "    object_response = requests.get(address, headers=headers)\n",
    "    bs_page = BeautifulSoup(object_response.content, 'lxml')\n",
    "    team_players = bs_page.find_all('span', {'class':'aufstellung-rueckennummer-name'})\n",
    "    players = []\n",
    "    for player in team_players:\n",
    "        players.append(str(player).split('>')[2].split('<')[0].lower())\n",
    "        #print(str(player).split('>')[2].split('<')[0].lower())\n",
    "    print(f'\\nMatchday{matchday}')\n",
    "    cost = 0\n",
    "    for player in players[:11]:\n",
    "        if player in squad_temp:\n",
    "            cost += squad_temp[player.lower()]\n",
    "    \n",
    "    print(cost)\n",
    "    cost2 = 0\n",
    "    for player in players[11:]:\n",
    "        if player in squad_temp:\n",
    "            cost2 += squad_temp[player.lower()]\n",
    "    \n",
    "    print(cost2)\n",
    "    matchday +=1\n",
    "    "
   ]
  },
  {
   "cell_type": "code",
   "execution_count": null,
   "id": "71650f9d",
   "metadata": {},
   "outputs": [],
   "source": []
  }
 ],
 "metadata": {
  "kernelspec": {
   "display_name": "Python 3 (ipykernel)",
   "language": "python",
   "name": "python3"
  },
  "language_info": {
   "codemirror_mode": {
    "name": "ipython",
    "version": 3
   },
   "file_extension": ".py",
   "mimetype": "text/x-python",
   "name": "python",
   "nbconvert_exporter": "python",
   "pygments_lexer": "ipython3",
   "version": "3.10.9"
  }
 },
 "nbformat": 4,
 "nbformat_minor": 5
}
